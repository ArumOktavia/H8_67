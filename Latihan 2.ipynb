{
 "cells": [
  {
   "cell_type": "code",
   "execution_count": null,
   "id": "3833e190",
   "metadata": {},
   "outputs": [],
   "source": [
    "== #equals\n",
    "!=<\n",
    ">\n",
    "<=\n",
    ">="
   ]
  },
  {
   "cell_type": "code",
   "execution_count": 5,
   "id": "a256dd5c",
   "metadata": {},
   "outputs": [
    {
     "name": "stdout",
     "output_type": "stream",
     "text": [
      "pergi keluar\n",
      "pergi ke rumah nenek\n"
     ]
    }
   ],
   "source": [
    "cuaca = 'cerah'\n",
    "\n",
    "if cuaca == 'cerah':\n",
    "    print('pergi keluar')\n",
    "    print('pergi ke rumah nenek')"
   ]
  },
  {
   "cell_type": "code",
   "execution_count": 22,
   "id": "e4649835",
   "metadata": {},
   "outputs": [
    {
     "name": "stdout",
     "output_type": "stream",
     "text": [
      "benar\n",
      "...\n",
      "...\n",
      "benar\n",
      "...\n",
      "...\n",
      "ok\n",
      "Something\n"
     ]
    }
   ],
   "source": [
    "x = 8\n",
    "y = 10\n",
    "\n",
    "if x > 1: #expresion 1\n",
    "    print('benar')#statement 1\n",
    "    print('...')#statement 2\n",
    "    print('...')#statement 3\n",
    "    \n",
    "if y == 10: #expression 2\n",
    "    print('benar')#statement A\n",
    "    print('...')#statement B\n",
    "    print('...')#statement C\n",
    "    \n",
    "if x == 8: #expression 3\n",
    "    print('ok') #statement 1\n",
    "       \n",
    "print('Something')\n",
    "    "
   ]
  },
  {
   "cell_type": "code",
   "execution_count": 72,
   "id": "ebe5e567",
   "metadata": {},
   "outputs": [
    {
     "name": "stdout",
     "output_type": "stream",
     "text": [
      "Outer condition is true\n",
      "Between inner condition\n",
      "inner condition 2\n",
      "End of outer condition\n",
      "After outer condition\n"
     ]
    }
   ],
   "source": [
    "if 'foo' in['foo', 'bar', 'baz']: #E1 terpenuhi\n",
    "    print('Outer condition is true') #S1 jalan\n",
    "    \n",
    "    if 10 > 20: #E2 tidak terpenuhi\n",
    "        print('inner condition') #S2 tidak jalan\n",
    "        \n",
    "    print('Between inner condition') #S3 jalan\n",
    "        \n",
    "    if 10 < 20: #E3 terpenuhi\n",
    "        print('inner condition 2') #S4 jalan\n",
    "        \n",
    "    print('End of outer condition') #S5 jalan\n",
    "    \n",
    "    print('After outer condition') #S6 jalan"
   ]
  },
  {
   "cell_type": "code",
   "execution_count": 71,
   "id": "9953f818",
   "metadata": {},
   "outputs": [
    {
     "name": "stdout",
     "output_type": "stream",
     "text": [
      "NOT\n"
     ]
    }
   ],
   "source": [
    "x = 10\n",
    "\n",
    "if x < 10: #E1\n",
    "    print('OK')#S1\n",
    "else: #E1\n",
    "    print('NOT')#S2\n",
    "        "
   ]
  },
  {
   "cell_type": "code",
   "execution_count": 26,
   "id": "29c9c988",
   "metadata": {},
   "outputs": [
    {
     "name": "stdout",
     "output_type": "stream",
     "text": [
      "THIS\n"
     ]
    }
   ],
   "source": [
    "y = 100\n",
    "\n",
    "if y == 90:\n",
    "    print('OK')\n",
    "elif y == 100:\n",
    "    print('THIS')\n",
    "else:\n",
    "    print('NOT')"
   ]
  },
  {
   "cell_type": "code",
   "execution_count": 27,
   "id": "6199a154",
   "metadata": {},
   "outputs": [
    {
     "name": "stdout",
     "output_type": "stream",
     "text": [
      "(first suite)\n",
      "(x is small)\n"
     ]
    }
   ],
   "source": [
    "x = 20\n",
    "\n",
    "if x < 50:\n",
    "    print('(first suite)')\n",
    "    print('(x is small)')\n",
    "else:\n",
    "    print('(second suite)')\n",
    "    print('(x is large)')"
   ]
  },
  {
   "cell_type": "code",
   "execution_count": 77,
   "id": "d4a6a9f2",
   "metadata": {},
   "outputs": [
    {
     "name": "stdout",
     "output_type": "stream",
     "text": [
      "ngga cukup\n"
     ]
    }
   ],
   "source": [
    "harga_buku = 20000\n",
    "harga_majalah = 5000\n",
    "uang = 2000\n",
    "\n",
    "\n",
    "if uang > harga_buku: #E1\n",
    "    print('beli buku') #beli\n",
    "\n",
    "else:\n",
    "    print('ngga cukup')"
   ]
  },
  {
   "cell_type": "code",
   "execution_count": 76,
   "id": "91a7b47a",
   "metadata": {},
   "outputs": [
    {
     "name": "stdout",
     "output_type": "stream",
     "text": [
      "beli buku\n",
      "beli pulpen\n"
     ]
    }
   ],
   "source": [
    "harga_buku = 1500\n",
    "harga_majalah = 5000\n",
    "uang = 2000\n",
    "harga_pulpen = 1000\n",
    "\n",
    "if uang > harga_buku: #E1\n",
    "    print('beli buku') #beli\n",
    "    \n",
    "if uang > harga_pulpen: #E2\n",
    "    print('beli pulpen') #beli\n",
    "    \n",
    "else:\n",
    "    print('ngga cukup')"
   ]
  },
  {
   "cell_type": "code",
   "execution_count": 33,
   "id": "d3c16b0a",
   "metadata": {},
   "outputs": [
    {
     "name": "stdout",
     "output_type": "stream",
     "text": [
      "Hai Hack\n"
     ]
    }
   ],
   "source": [
    "name = 'Hacktiv8'\n",
    "if name == 'Fred':\n",
    "    print('Hai Fred')\n",
    "elif name == 'Xander':\n",
    "    print('Hai Xander')\n",
    "elif name == 'Hacktiv8':\n",
    "    print('Hai Hack')\n",
    "elif name == 'Arnold':\n",
    "    print('Hai Arnold')\n",
    "else:\n",
    "    print('I dont know')"
   ]
  },
  {
   "cell_type": "code",
   "execution_count": 36,
   "id": "5f7b4677",
   "metadata": {},
   "outputs": [
    {
     "name": "stdout",
     "output_type": "stream",
     "text": [
      "Hai Hack\n",
      "Apa Kabar\n",
      "Sudah Makan\n"
     ]
    }
   ],
   "source": [
    "if name == 'Hacktiv8': print('Hai Hack'); print('Apa Kabar'); print('Sudah Makan')"
   ]
  },
  {
   "cell_type": "code",
   "execution_count": 39,
   "id": "bf69e41d",
   "metadata": {},
   "outputs": [
    {
     "name": "stdout",
     "output_type": "stream",
     "text": [
      "Benar\n",
      "Salah\n"
     ]
    }
   ],
   "source": [
    "y = 50\n",
    "x = 'Benar' if y == 50 else 'Salah'\n",
    "print(x)\n",
    "\n",
    "y = 50\n",
    "x = 'Benar' if y == 10 else 'Salah'\n",
    "print(x)"
   ]
  },
  {
   "cell_type": "code",
   "execution_count": 42,
   "id": "15c04fb6",
   "metadata": {},
   "outputs": [
    {
     "name": "stdout",
     "output_type": "stream",
     "text": [
      "Salah\n"
     ]
    }
   ],
   "source": [
    "a = 1\n",
    "b = 2\n",
    "c = 3\n",
    "y = 50\n",
    "\n",
    "x = a+b*c if y == 10 else 'Salah'\n",
    "print(x)"
   ]
  },
  {
   "cell_type": "code",
   "execution_count": 44,
   "id": "395f86d0",
   "metadata": {},
   "outputs": [
    {
     "name": "stdout",
     "output_type": "stream",
     "text": [
      "qux\n",
      "quux\n"
     ]
    }
   ],
   "source": [
    "x = 2\n",
    "\n",
    "if x == 1: \n",
    "    print('foo')\n",
    "    print('bar') \n",
    "    print('baz')\n",
    "elif x == 2:\n",
    "    print('qux')\n",
    "    print('quux')\n",
    "else:\n",
    "    print('corge')\n",
    "    print('grault')"
   ]
  },
  {
   "cell_type": "code",
   "execution_count": 51,
   "id": "7a2dad2a",
   "metadata": {},
   "outputs": [
    {
     "name": "stdout",
     "output_type": "stream",
     "text": [
      "Ayo ke dirumah aja\n",
      "------------------------------\n",
      "dirumah aja\n"
     ]
    }
   ],
   "source": [
    "hujan = True\n",
    "print('Ayo ke','pantai' if not hujan else 'dirumah aja')\n",
    "\n",
    "print('-'*30)\n",
    "if not hujan:\n",
    "    print('dipantai')\n",
    "    \n",
    "else:\n",
    "    print('dirumah aja')"
   ]
  },
  {
   "cell_type": "code",
   "execution_count": 48,
   "id": "88dae49a",
   "metadata": {},
   "outputs": [
    {
     "name": "stdout",
     "output_type": "stream",
     "text": [
      "False\n",
      "True\n"
     ]
    }
   ],
   "source": [
    "print('A' not in 'ABC')\n",
    "print('A' in ['A', 'B', 'C'])"
   ]
  },
  {
   "cell_type": "code",
   "execution_count": 78,
   "id": "ed691231",
   "metadata": {},
   "outputs": [
    {
     "name": "stdout",
     "output_type": "stream",
     "text": [
      "foo\n"
     ]
    }
   ],
   "source": [
    "if True:\n",
    "    \n",
    "    print('foo')"
   ]
  },
  {
   "cell_type": "code",
   "execution_count": 53,
   "id": "1c301e60",
   "metadata": {},
   "outputs": [
    {
     "data": {
      "text/plain": [
       "'no'"
      ]
     },
     "execution_count": 53,
     "metadata": {},
     "output_type": "execute_result"
    }
   ],
   "source": [
    "'yes' if ('qux' in ['foo', 'bar', 'baz']) else 'no'"
   ]
  },
  {
   "cell_type": "code",
   "execution_count": null,
   "id": "aceee400",
   "metadata": {},
   "outputs": [],
   "source": [
    "while True\"\n",
    "    print('A')"
   ]
  },
  {
   "cell_type": "code",
   "execution_count": 79,
   "id": "a4346c28",
   "metadata": {},
   "outputs": [
    {
     "name": "stdout",
     "output_type": "stream",
     "text": [
      "A\n",
      "A\n",
      "A\n",
      "A\n",
      "A\n",
      "A\n",
      "A\n",
      "A\n",
      "A\n",
      "A\n"
     ]
    }
   ],
   "source": [
    "n = 0\n",
    "while True:\n",
    "    print('A')\n",
    "    n += 1\n",
    "    if n == 10:\n",
    "        break"
   ]
  },
  {
   "cell_type": "code",
   "execution_count": 80,
   "id": "c498c5ed",
   "metadata": {},
   "outputs": [
    {
     "name": "stdout",
     "output_type": "stream",
     "text": [
      "n = 0\n",
      "--------------------\n",
      "A0\n",
      "A1\n",
      "A2\n",
      "A3\n",
      "A4\n",
      "A5\n",
      "A6\n",
      "A7\n",
      "A8\n",
      "A9\n",
      "--------------------\n",
      "n = 10\n"
     ]
    }
   ],
   "source": [
    "n = 0\n",
    "print('n =', n)\n",
    "print('-'*20)\n",
    "while True:\n",
    "    print('A{}'.format(n))\n",
    "    n += 1\n",
    "    if n == 10:\n",
    "        break\n",
    "print('-'*20)\n",
    "print('n =', n)"
   ]
  },
  {
   "cell_type": "code",
   "execution_count": 58,
   "id": "2b6b5977",
   "metadata": {},
   "outputs": [
    {
     "name": "stdout",
     "output_type": "stream",
     "text": [
      "4\n",
      "3\n",
      "2\n",
      "1\n",
      "0\n"
     ]
    }
   ],
   "source": [
    "n = 5\n",
    "while n > 0:\n",
    "    n -= 1\n",
    "    print(n)"
   ]
  },
  {
   "cell_type": "code",
   "execution_count": 66,
   "id": "276d29b0",
   "metadata": {},
   "outputs": [
    {
     "name": "stdout",
     "output_type": "stream",
     "text": [
      "4\n",
      "4\n",
      "3\n",
      "3\n",
      "1\n",
      "1\n",
      "0\n",
      "0\n",
      "Loop ended.\n"
     ]
    }
   ],
   "source": [
    "n = 5\n",
    "while n > 0:\n",
    "    n -= 1\n",
    "    if n == 2:\n",
    "        continue\n",
    "    print(n)\n",
    "    print(n)\n",
    "print('Loop ended.')"
   ]
  },
  {
   "cell_type": "code",
   "execution_count": 127,
   "id": "14c03164",
   "metadata": {},
   "outputs": [
    {
     "name": "stdout",
     "output_type": "stream",
     "text": [
      "ambil tweet ke-1\n",
      "ambil tweet ke-2\n",
      "ambil tweet ke-3\n",
      "ambil tweet ke-4\n",
      "ambil tweet ke-5ROKOK\n"
     ]
    }
   ],
   "source": [
    "nama_akun = '@metrotvnews'\n",
    "target_tweets = 10\n",
    "tweets_terambil = 0\n",
    "text_warning = 'ROKOK'\n",
    "\n",
    "while tweets_terambil != target_tweets:\n",
    "    tweets_terambil += 1\n",
    "    tweet = 'ambil tweet ke-{}'. format(tweets_terambil)\n",
    "    if tweets_terambil == 5:\n",
    "        tweet = tweet + 'ROKOK'\n",
    "    print(tweet)\n",
    "    if text_warning in tweet:\n",
    "        break"
   ]
  },
  {
   "cell_type": "code",
   "execution_count": null,
   "id": "1fa6888d",
   "metadata": {},
   "outputs": [],
   "source": [
    "n = 5\n",
    "while n > 0:\n",
    "    n -= 1\n",
    "    print(n)\n",
    "    if n == 2:\n",
    "        break\n",
    "        \n",
    "else:\n",
    "    print('Loop done')\n",
    "\n",
    "print('Start another process')"
   ]
  },
  {
   "cell_type": "code",
   "execution_count": 96,
   "id": "0bc71caf",
   "metadata": {},
   "outputs": [
    {
     "name": "stdout",
     "output_type": "stream",
     "text": [
      "foo\n",
      "> baz\n",
      "bar\n",
      "> baz\n"
     ]
    }
   ],
   "source": [
    "a = ['foo', 'bar']\n",
    "while len(a):\n",
    "    print(a.pop(0))\n",
    "    \n",
    "    b = ['baz', 'qux']\n",
    "    \n",
    "    while len(b):\n",
    "        print('>', b.pop(0))\n",
    "        break"
   ]
  },
  {
   "cell_type": "code",
   "execution_count": 97,
   "id": "4bfcb662",
   "metadata": {},
   "outputs": [
    {
     "data": {
      "text/plain": [
       "2"
      ]
     },
     "execution_count": 97,
     "metadata": {},
     "output_type": "execute_result"
    }
   ],
   "source": [
    "a = ['foo', 'bar']\n",
    "len(a)"
   ]
  },
  {
   "cell_type": "code",
   "execution_count": 98,
   "id": "53874fc3",
   "metadata": {},
   "outputs": [
    {
     "data": {
      "text/plain": [
       "'foo'"
      ]
     },
     "execution_count": 98,
     "metadata": {},
     "output_type": "execute_result"
    }
   ],
   "source": [
    "a.pop(0)"
   ]
  },
  {
   "cell_type": "code",
   "execution_count": 99,
   "id": "3eadcf71",
   "metadata": {},
   "outputs": [
    {
     "data": {
      "text/plain": [
       "['bar']"
      ]
     },
     "execution_count": 99,
     "metadata": {},
     "output_type": "execute_result"
    }
   ],
   "source": [
    "a"
   ]
  },
  {
   "cell_type": "code",
   "execution_count": 106,
   "id": "3934872f",
   "metadata": {},
   "outputs": [],
   "source": [
    "x = 2\n",
    "while 0:\n",
    "    x -= 1\n",
    "    print(x)"
   ]
  },
  {
   "cell_type": "code",
   "execution_count": 107,
   "id": "11367a87",
   "metadata": {},
   "outputs": [
    {
     "data": {
      "text/plain": [
       "1"
      ]
     },
     "execution_count": 107,
     "metadata": {},
     "output_type": "execute_result"
    }
   ],
   "source": [
    "len(a)"
   ]
  },
  {
   "cell_type": "code",
   "execution_count": 110,
   "id": "2d6d53ec",
   "metadata": {},
   "outputs": [
    {
     "name": "stdout",
     "output_type": "stream",
     "text": [
      "foo 1\n",
      "bar 2\n",
      "baz 3\n"
     ]
    }
   ],
   "source": [
    "a = {'foo': 1, 'bar': 2, 'baz':3}\n",
    "for i in a:\n",
    "    print(i, a[i])"
   ]
  },
  {
   "cell_type": "code",
   "execution_count": 111,
   "id": "a82cfeb4",
   "metadata": {},
   "outputs": [
    {
     "data": {
      "text/plain": [
       "1"
      ]
     },
     "execution_count": 111,
     "metadata": {},
     "output_type": "execute_result"
    }
   ],
   "source": [
    "a['foo']"
   ]
  },
  {
   "cell_type": "code",
   "execution_count": 113,
   "id": "e7f64a58",
   "metadata": {},
   "outputs": [
    {
     "name": "stdout",
     "output_type": "stream",
     "text": [
      "1\n",
      "2\n",
      "3\n"
     ]
    }
   ],
   "source": [
    "for i in a.values():\n",
    "    print(i)"
   ]
  },
  {
   "cell_type": "code",
   "execution_count": 114,
   "id": "4f2f642f",
   "metadata": {},
   "outputs": [
    {
     "name": "stdout",
     "output_type": "stream",
     "text": [
      "foo\n",
      "bar\n",
      "baz\n"
     ]
    }
   ],
   "source": [
    "for i in a.keys():\n",
    "    print(i)"
   ]
  },
  {
   "cell_type": "code",
   "execution_count": 115,
   "id": "7986fe5d",
   "metadata": {},
   "outputs": [
    {
     "data": {
      "text/plain": [
       "{'foo': 1, 'bar': 2, 'baz': 3}"
      ]
     },
     "execution_count": 115,
     "metadata": {},
     "output_type": "execute_result"
    }
   ],
   "source": [
    "a"
   ]
  },
  {
   "cell_type": "code",
   "execution_count": 119,
   "id": "dbcc7dce",
   "metadata": {},
   "outputs": [
    {
     "name": "stdout",
     "output_type": "stream",
     "text": [
      "foo 1\n",
      "bar 2\n",
      "baz 3\n"
     ]
    }
   ],
   "source": [
    "for k, v in a.items():\n",
    "    print(k,v)"
   ]
  },
  {
   "cell_type": "code",
   "execution_count": 120,
   "id": "68fcd0df",
   "metadata": {},
   "outputs": [
    {
     "name": "stdout",
     "output_type": "stream",
     "text": [
      "1 A 1\n",
      "1 B 2\n",
      "1 C 3\n"
     ]
    }
   ],
   "source": [
    "a = ['a', 'b', 'c']\n",
    "b = ['A', 'B', 'C']\n",
    "c = [1, 2, 3]\n",
    "\n",
    "for i, j, k in zip(a, b, c):\n",
    "    print(1, j, k)"
   ]
  },
  {
   "cell_type": "code",
   "execution_count": 121,
   "id": "3028e4f6",
   "metadata": {},
   "outputs": [
    {
     "name": "stdout",
     "output_type": "stream",
     "text": [
      "0\n",
      "1\n",
      "2\n",
      "3\n",
      "4\n",
      "5\n",
      "6\n",
      "7\n",
      "8\n",
      "9\n"
     ]
    }
   ],
   "source": [
    "for i in range(10):\n",
    "    print(i)"
   ]
  },
  {
   "cell_type": "code",
   "execution_count": 122,
   "id": "b0ee5827",
   "metadata": {},
   "outputs": [
    {
     "data": {
      "text/plain": [
       "range(0, 10)"
      ]
     },
     "execution_count": 122,
     "metadata": {},
     "output_type": "execute_result"
    }
   ],
   "source": [
    "x = range(10)\n",
    "x"
   ]
  },
  {
   "cell_type": "code",
   "execution_count": 125,
   "id": "d0ce417c",
   "metadata": {},
   "outputs": [
    {
     "name": "stdout",
     "output_type": "stream",
     "text": [
      "Masukkan nama: ARUM\n",
      "A\n",
      "R\n",
      "U\n",
      "M\n"
     ]
    }
   ],
   "source": [
    "a = input('Masukkan nama: ')\n",
    "for i in a:\n",
    "    print(i)"
   ]
  },
  {
   "cell_type": "code",
   "execution_count": 126,
   "id": "c66c0b66",
   "metadata": {},
   "outputs": [
    {
     "ename": "KeyboardInterrupt",
     "evalue": "Interrupted by user",
     "output_type": "error",
     "traceback": [
      "\u001b[1;31m---------------------------------------------------------------------------\u001b[0m",
      "\u001b[1;31mKeyboardInterrupt\u001b[0m                         Traceback (most recent call last)",
      "\u001b[1;32m<ipython-input-126-0c14327d0828>\u001b[0m in \u001b[0;36m<module>\u001b[1;34m\u001b[0m\n\u001b[0;32m      1\u001b[0m \u001b[1;32mwhile\u001b[0m \u001b[1;32mTrue\u001b[0m\u001b[1;33m:\u001b[0m\u001b[1;33m\u001b[0m\u001b[1;33m\u001b[0m\u001b[0m\n\u001b[1;32m----> 2\u001b[1;33m     \u001b[0mmsg\u001b[0m \u001b[1;33m=\u001b[0m \u001b[0minput\u001b[0m\u001b[1;33m(\u001b[0m\u001b[1;34m'Stop? '\u001b[0m\u001b[1;33m)\u001b[0m\u001b[1;33m\u001b[0m\u001b[1;33m\u001b[0m\u001b[0m\n\u001b[0m\u001b[0;32m      3\u001b[0m     \u001b[1;32mif\u001b[0m \u001b[0mmsg\u001b[0m  \u001b[1;33m==\u001b[0m \u001b[1;34m'S'\u001b[0m\u001b[1;33m:\u001b[0m\u001b[1;33m\u001b[0m\u001b[1;33m\u001b[0m\u001b[0m\n\u001b[0;32m      4\u001b[0m         \u001b[1;32mbreak\u001b[0m\u001b[1;33m\u001b[0m\u001b[1;33m\u001b[0m\u001b[0m\n",
      "\u001b[1;32m~\\anaconda3\\lib\\site-packages\\ipykernel\\kernelbase.py\u001b[0m in \u001b[0;36mraw_input\u001b[1;34m(self, prompt)\u001b[0m\n\u001b[0;32m    858\u001b[0m                 \u001b[1;34m\"raw_input was called, but this frontend does not support input requests.\"\u001b[0m\u001b[1;33m\u001b[0m\u001b[1;33m\u001b[0m\u001b[0m\n\u001b[0;32m    859\u001b[0m             )\n\u001b[1;32m--> 860\u001b[1;33m         return self._input_request(str(prompt),\n\u001b[0m\u001b[0;32m    861\u001b[0m             \u001b[0mself\u001b[0m\u001b[1;33m.\u001b[0m\u001b[0m_parent_ident\u001b[0m\u001b[1;33m,\u001b[0m\u001b[1;33m\u001b[0m\u001b[1;33m\u001b[0m\u001b[0m\n\u001b[0;32m    862\u001b[0m             \u001b[0mself\u001b[0m\u001b[1;33m.\u001b[0m\u001b[0m_parent_header\u001b[0m\u001b[1;33m,\u001b[0m\u001b[1;33m\u001b[0m\u001b[1;33m\u001b[0m\u001b[0m\n",
      "\u001b[1;32m~\\anaconda3\\lib\\site-packages\\ipykernel\\kernelbase.py\u001b[0m in \u001b[0;36m_input_request\u001b[1;34m(self, prompt, ident, parent, password)\u001b[0m\n\u001b[0;32m    902\u001b[0m             \u001b[1;32mexcept\u001b[0m \u001b[0mKeyboardInterrupt\u001b[0m\u001b[1;33m:\u001b[0m\u001b[1;33m\u001b[0m\u001b[1;33m\u001b[0m\u001b[0m\n\u001b[0;32m    903\u001b[0m                 \u001b[1;31m# re-raise KeyboardInterrupt, to truncate traceback\u001b[0m\u001b[1;33m\u001b[0m\u001b[1;33m\u001b[0m\u001b[1;33m\u001b[0m\u001b[0m\n\u001b[1;32m--> 904\u001b[1;33m                 \u001b[1;32mraise\u001b[0m \u001b[0mKeyboardInterrupt\u001b[0m\u001b[1;33m(\u001b[0m\u001b[1;34m\"Interrupted by user\"\u001b[0m\u001b[1;33m)\u001b[0m \u001b[1;32mfrom\u001b[0m \u001b[1;32mNone\u001b[0m\u001b[1;33m\u001b[0m\u001b[1;33m\u001b[0m\u001b[0m\n\u001b[0m\u001b[0;32m    905\u001b[0m             \u001b[1;32mexcept\u001b[0m \u001b[0mException\u001b[0m \u001b[1;32mas\u001b[0m \u001b[0me\u001b[0m\u001b[1;33m:\u001b[0m\u001b[1;33m\u001b[0m\u001b[1;33m\u001b[0m\u001b[0m\n\u001b[0;32m    906\u001b[0m                 \u001b[0mself\u001b[0m\u001b[1;33m.\u001b[0m\u001b[0mlog\u001b[0m\u001b[1;33m.\u001b[0m\u001b[0mwarning\u001b[0m\u001b[1;33m(\u001b[0m\u001b[1;34m\"Invalid Message:\"\u001b[0m\u001b[1;33m,\u001b[0m \u001b[0mexc_info\u001b[0m\u001b[1;33m=\u001b[0m\u001b[1;32mTrue\u001b[0m\u001b[1;33m)\u001b[0m\u001b[1;33m\u001b[0m\u001b[1;33m\u001b[0m\u001b[0m\n",
      "\u001b[1;31mKeyboardInterrupt\u001b[0m: Interrupted by user"
     ]
    }
   ],
   "source": [
    "while True:\n",
    "    msg = input('Stop? ')\n",
    "    if msg  == 'S':\n",
    "        break"
   ]
  },
  {
   "cell_type": "code",
   "execution_count": null,
   "id": "3cc88d0b",
   "metadata": {},
   "outputs": [],
   "source": []
  }
 ],
 "metadata": {
  "kernelspec": {
   "display_name": "Python 3",
   "language": "python",
   "name": "python3"
  }
 },
 "nbformat": 4,
 "nbformat_minor": 5
}
