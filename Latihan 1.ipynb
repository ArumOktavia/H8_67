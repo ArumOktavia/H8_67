{
 "cells": [
  {
   "cell_type": "code",
   "execution_count": 4,
   "id": "58773961",
   "metadata": {},
   "outputs": [
    {
     "name": "stdout",
     "output_type": "stream",
     "text": [
      "26\n",
      "<class 'int'>\n"
     ]
    }
   ],
   "source": [
    "print(26)\n",
    "print(type(26))"
   ]
  },
  {
   "cell_type": "code",
   "execution_count": 5,
   "id": "69727952",
   "metadata": {},
   "outputs": [
    {
     "name": "stdout",
     "output_type": "stream",
     "text": [
      "6.3\n",
      "<class 'float'>\n",
      "6.0\n",
      "0.3\n",
      "600000000.0\n",
      "6.3e-06\n"
     ]
    }
   ],
   "source": [
    "print(6.3)\n",
    "print(type(6.3))\n",
    "\n",
    "print(6.)\n",
    "\n",
    "print(.3)\n",
    "\n",
    "print(.6e9)\n",
    "\n",
    "print(6.3e-6)"
   ]
  },
  {
   "cell_type": "code",
   "execution_count": 7,
   "id": "9ddebbdf",
   "metadata": {},
   "outputs": [
    {
     "name": "stdout",
     "output_type": "stream",
     "text": [
      "arumokta26\n",
      "<class 'str'>\n"
     ]
    }
   ],
   "source": [
    "print(\"arumokta26\")\n",
    "print(type(\"arumokta26\"))"
   ]
  },
  {
   "cell_type": "code",
   "execution_count": 12,
   "id": "381a911b",
   "metadata": {},
   "outputs": [
    {
     "name": "stdout",
     "output_type": "stream",
     "text": [
      "<class 'bool'>\n",
      "<class 'bool'>\n"
     ]
    }
   ],
   "source": [
    "print(type(True))\n",
    "print(type(False))"
   ]
  },
  {
   "cell_type": "code",
   "execution_count": null,
   "id": "07161e30",
   "metadata": {},
   "outputs": [],
   "source": [
    "n = 300\n",
    "\n",
    "print(n)\n",
    "\n",
    "300\n",
    "\n",
    "n\n",
    "\n",
    "300"
   ]
  },
  {
   "cell_type": "code",
   "execution_count": 16,
   "id": "8e854d5b",
   "metadata": {},
   "outputs": [
    {
     "name": "stdout",
     "output_type": "stream",
     "text": [
      "1000\n"
     ]
    },
    {
     "data": {
      "text/plain": [
       "1000"
      ]
     },
     "execution_count": 16,
     "metadata": {},
     "output_type": "execute_result"
    }
   ],
   "source": [
    "n = 1000\n",
    "print (n)\n",
    "\n",
    "n"
   ]
  },
  {
   "cell_type": "code",
   "execution_count": 17,
   "id": "78e1d3fc",
   "metadata": {},
   "outputs": [
    {
     "name": "stdout",
     "output_type": "stream",
     "text": [
      "800 800 800\n"
     ]
    }
   ],
   "source": [
    "a = b = c = 800\n",
    "print(a, b, c)"
   ]
  },
  {
   "cell_type": "code",
   "execution_count": 51,
   "id": "7584e936",
   "metadata": {},
   "outputs": [
    {
     "name": "stdout",
     "output_type": "stream",
     "text": [
      "(28, 4)\n",
      "Now i'm a chrod\n"
     ]
    }
   ],
   "source": [
    "var = 28,4\n",
    "print(var)\n",
    "\n",
    "var = \"Now i'm a chrod\"\n",
    "print(var)"
   ]
  },
  {
   "cell_type": "code",
   "execution_count": 52,
   "id": "460e8bcc",
   "metadata": {},
   "outputs": [
    {
     "name": "stdout",
     "output_type": "stream",
     "text": [
      "Dualipa 25 True\n"
     ]
    }
   ],
   "source": [
    "name = \"Dualipa\"\n",
    "Age = 25\n",
    "a_singer = True\n",
    "print(name, Age, a_singer)"
   ]
  },
  {
   "cell_type": "code",
   "execution_count": 20,
   "id": "a0bd14ac",
   "metadata": {},
   "outputs": [
    {
     "ename": "SyntaxError",
     "evalue": "invalid decimal literal (<ipython-input-20-6e4ebee46408>, line 1)",
     "output_type": "error",
     "traceback": [
      "\u001b[1;36m  File \u001b[1;32m\"<ipython-input-20-6e4ebee46408>\"\u001b[1;36m, line \u001b[1;32m1\u001b[0m\n\u001b[1;33m    3_cheese_cake = True\u001b[0m\n\u001b[1;37m     ^\u001b[0m\n\u001b[1;31mSyntaxError\u001b[0m\u001b[1;31m:\u001b[0m invalid decimal literal\n"
     ]
    }
   ],
   "source": [
    "3_cheese_cake = True"
   ]
  },
  {
   "cell_type": "code",
   "execution_count": 22,
   "id": "95979da8",
   "metadata": {},
   "outputs": [
    {
     "name": "stdout",
     "output_type": "stream",
     "text": [
      "1 2 3 4 5 6 7 8\n"
     ]
    }
   ],
   "source": [
    "level = 1\n",
    "Level = 2\n",
    "leVel = 3\n",
    "LEVEL = 4\n",
    "l_e_v_e_l = 5\n",
    "_level = 6\n",
    "level_ = 7\n",
    "_LEVEL_ = 8\n",
    "\n",
    "print(level, Level, leVel, LEVEL, l_e_v_e_l, _level, level_, _LEVEL_)"
   ]
  },
  {
   "cell_type": "code",
   "execution_count": 23,
   "id": "7c7d77d5",
   "metadata": {},
   "outputs": [
    {
     "data": {
      "text/plain": [
       "40"
      ]
     },
     "execution_count": 23,
     "metadata": {},
     "output_type": "execute_result"
    }
   ],
   "source": [
    "a = 15\n",
    "b = 25\n",
    "a + b"
   ]
  },
  {
   "cell_type": "code",
   "execution_count": 24,
   "id": "922a8da0",
   "metadata": {},
   "outputs": [
    {
     "data": {
      "text/plain": [
       "98"
      ]
     },
     "execution_count": 24,
     "metadata": {},
     "output_type": "execute_result"
    }
   ],
   "source": [
    "a = 100\n",
    "b = 28\n",
    "a + b - 30"
   ]
  },
  {
   "cell_type": "code",
   "execution_count": 53,
   "id": "b8f77493",
   "metadata": {},
   "outputs": [
    {
     "name": "stdout",
     "output_type": "stream",
     "text": [
      "15\n",
      "5\n",
      "50\n",
      "2.0\n",
      "0\n",
      "100000\n"
     ]
    }
   ],
   "source": [
    "a = 10\n",
    "b = 5\n",
    "\n",
    "print(a + b)\n",
    "print(a - b)\n",
    "print(a * b)\n",
    "print(a / b)\n",
    "print(a % b)\n",
    "print(a ** b)\n"
   ]
  },
  {
   "cell_type": "code",
   "execution_count": 28,
   "id": "0b697306",
   "metadata": {},
   "outputs": [
    {
     "data": {
      "text/plain": [
       "10.0"
      ]
     },
     "execution_count": 28,
     "metadata": {},
     "output_type": "execute_result"
    }
   ],
   "source": [
    "20 / 2"
   ]
  },
  {
   "cell_type": "code",
   "execution_count": 54,
   "id": "c53b189e",
   "metadata": {},
   "outputs": [
    {
     "name": "stdout",
     "output_type": "stream",
     "text": [
      "False\n",
      "True\n",
      "False\n",
      "True\n",
      "True\n",
      "True\n",
      "True\n"
     ]
    }
   ],
   "source": [
    "a = 100\n",
    "b = 50\n",
    "print(a == b)\n",
    "\n",
    "print(a != b)\n",
    "\n",
    "print(a <= b)\n",
    "\n",
    "print(a >= b)\n",
    "\n",
    "\n",
    "a = 80\n",
    "b = 80\n",
    "print(a == b)\n",
    "print(a <= b)\n",
    "print(a >= b)"
   ]
  },
  {
   "cell_type": "code",
   "execution_count": 55,
   "id": "16b69f01",
   "metadata": {},
   "outputs": [
    {
     "name": "stdout",
     "output_type": "stream",
     "text": [
      "acaucu\n",
      "acaucuaca\n",
      "Jogja25 JKT\n"
     ]
    }
   ],
   "source": [
    "# + Operators\n",
    "z = 'aca'\n",
    "g = 'ucu'\n",
    "i = 'aca'\n",
    "\n",
    "print(z + g)\n",
    "\n",
    "print(z + g + i)\n",
    "\n",
    "print('Jogja25 ' + 'JKT')"
   ]
  },
  {
   "cell_type": "code",
   "execution_count": 34,
   "id": "387e4026",
   "metadata": {},
   "outputs": [
    {
     "data": {
      "text/plain": [
       "'blablablablablablablablablablablablablablablabla'"
      ]
     },
     "execution_count": 34,
     "metadata": {},
     "output_type": "execute_result"
    }
   ],
   "source": [
    "# * Operators\n",
    "A = 'blabla'\n",
    "\n",
    "A * 8"
   ]
  },
  {
   "cell_type": "code",
   "execution_count": 56,
   "id": "bf93741c",
   "metadata": {},
   "outputs": [
    {
     "name": "stdout",
     "output_type": "stream",
     "text": [
      "True\n",
      "False\n"
     ]
    }
   ],
   "source": [
    "# in Operators\n",
    "\n",
    "a = 'foo'\n",
    "\n",
    "print(a in 'That food for me')\n",
    "\n",
    "print(a in 'That good for me')"
   ]
  },
  {
   "cell_type": "code",
   "execution_count": 57,
   "id": "c49367ac",
   "metadata": {},
   "outputs": [
    {
     "name": "stdout",
     "output_type": "stream",
     "text": [
      "Jakarta26\n",
      "jakarta26\n",
      "jAKARTA26\n",
      "Jakarta26\n",
      "JAKARTA26\n"
     ]
    }
   ],
   "source": [
    "# Case Conversation\n",
    "ao = 'Jakarta26'\n",
    "\n",
    "# Capitalize\n",
    "print(ao.capitalize())\n",
    "\n",
    "# Lower\n",
    "print(ao.lower())\n",
    "\n",
    "#Swapcase\n",
    "print(ao.swapcase())\n",
    "\n",
    "#Title\n",
    "print(ao.title())\n",
    "\n",
    "# Uppercase\n",
    "print(ao.upper())"
   ]
  },
  {
   "cell_type": "code",
   "execution_count": 47,
   "id": "4c5d853c",
   "metadata": {},
   "outputs": [
    {
     "name": "stdout",
     "output_type": "stream",
     "text": [
      "['love', 'hug', 'kiss', 'mine']\n"
     ]
    }
   ],
   "source": [
    "Z = ['love', 'hug', 'kiss', 'mine']\n",
    "\n",
    "print (Z)"
   ]
  },
  {
   "cell_type": "code",
   "execution_count": 48,
   "id": "a89f8b67",
   "metadata": {},
   "outputs": [
    {
     "data": {
      "text/plain": [
       "False"
      ]
     },
     "execution_count": 48,
     "metadata": {},
     "output_type": "execute_result"
    }
   ],
   "source": [
    "Z = ['love', 'hug', 'kiss', 'mine']\n",
    "A = ['mine', 'love', 'hug', 'kiss']\n",
    "\n",
    "Z == A"
   ]
  },
  {
   "cell_type": "code",
   "execution_count": 50,
   "id": "8d787e4e",
   "metadata": {},
   "outputs": [
    {
     "name": "stdout",
     "output_type": "stream",
     "text": [
      "[25.4, 'story', 9, 9, 'moment', False, 9.19159]\n"
     ]
    }
   ],
   "source": [
    "D = [25.4, 'story', 9, 9, 'moment', False, 9.19159]\n",
    "\n",
    "print (D)"
   ]
  },
  {
   "cell_type": "code",
   "execution_count": 60,
   "id": "617bc6eb",
   "metadata": {},
   "outputs": [
    {
     "name": "stdout",
     "output_type": "stream",
     "text": [
      "mine\n",
      "hug\n"
     ]
    }
   ],
   "source": [
    "z = ['mine', 'love', 'kiss', 'hug', 'favorite', 'everything']\n",
    "     \n",
    "print(z[0])     \n",
    "print(z[3])    "
   ]
  },
  {
   "cell_type": "code",
   "execution_count": 63,
   "id": "62df3820",
   "metadata": {},
   "outputs": [
    {
     "data": {
      "text/plain": [
       "['kiss', 'hug', 'favorite']"
      ]
     },
     "execution_count": 63,
     "metadata": {},
     "output_type": "execute_result"
    }
   ],
   "source": [
    "z = ['mine', 'love', 'kiss', 'hug', 'favorite', 'everything']\n",
    "\n",
    "z[2:5]"
   ]
  },
  {
   "cell_type": "code",
   "execution_count": 66,
   "id": "81ad96f3",
   "metadata": {},
   "outputs": [
    {
     "name": "stdout",
     "output_type": "stream",
     "text": [
      "['mine', 'love', 'kiss', 'hug', 'favorite', 'everything']\n",
      "['mine', 'love', 'kiss', 'hug', 'favorite', 'everything', 'jogja', 'jakarta']\n",
      "['mine', 'love', 'kiss', 'hug', 'favorite', 'everything', 'mine', 'love', 'kiss', 'hug', 'favorite', 'everything']\n"
     ]
    }
   ],
   "source": [
    "print(z)\n",
    "\n",
    "print(z + ['jogja', 'jakarta'])\n",
    "\n",
    "print(z * 2)"
   ]
  },
  {
   "cell_type": "code",
   "execution_count": 82,
   "id": "712cd985",
   "metadata": {},
   "outputs": [
    {
     "name": "stdout",
     "output_type": "stream",
     "text": [
      "['mine', 'love', 'kiss', 'hug', 'favorite', 'everything']\n",
      "6\n",
      "everything\n",
      "mine\n"
     ]
    }
   ],
   "source": [
    "# len(), min(), max()\n",
    "\n",
    "print(z)\n",
    "\n",
    "print(len(z))\n",
    "\n",
    "print(min(z))\n",
    "\n",
    "print(max(z))"
   ]
  },
  {
   "cell_type": "code",
   "execution_count": 83,
   "id": "092fe334",
   "metadata": {},
   "outputs": [
    {
     "name": "stdout",
     "output_type": "stream",
     "text": [
      "['mine', 'love', 'kiss', 'hug', 'favorite', 'everything']\n",
      "['mine', 'love', 40, 'hug', 'favorite', 'everything']\n"
     ]
    }
   ],
   "source": [
    "Z = ['mine', 'love', 'kiss', 'hug', 'favorite', 'everything']\n",
    "\n",
    "print(Z)\n",
    "\n",
    "Z[2] = 30\n",
    "Z[-4] = 40\n",
    "\n",
    "print(Z)"
   ]
  },
  {
   "cell_type": "code",
   "execution_count": 85,
   "id": "d4ef71a8",
   "metadata": {},
   "outputs": [
    {
     "name": "stdout",
     "output_type": "stream",
     "text": [
      "['mine', 'love', 'kiss', 'hug', 'favorite', 'everything']\n"
     ]
    }
   ],
   "source": [
    "print(z)"
   ]
  },
  {
   "cell_type": "code",
   "execution_count": 89,
   "id": "c19f20e3",
   "metadata": {},
   "outputs": [
    {
     "name": "stdout",
     "output_type": "stream",
     "text": [
      "['mine', 'love', 'kiss', 'hug', 'everything']\n"
     ]
    }
   ],
   "source": [
    "del z[4]\n",
    "\n",
    "print(z)"
   ]
  },
  {
   "cell_type": "code",
   "execution_count": 92,
   "id": "a3dffc9c",
   "metadata": {},
   "outputs": [
    {
     "name": "stdout",
     "output_type": "stream",
     "text": [
      "['kiss', 'hug', 'favorite']\n",
      "['mine', 'love', 1.1, 2.2, 3.3, 4.4, 5.5, 'everything']\n"
     ]
    }
   ],
   "source": [
    "Z = ['mine', 'love', 'kiss', 'hug', 'favorite', 'everything']\n",
    "\n",
    "print(Z[2:5])\n",
    "\n",
    "Z[2:5] = [1.1, 2.2, 3.3, 4.4, 5.5]\n",
    "\n",
    "print(Z)"
   ]
  },
  {
   "cell_type": "code",
   "execution_count": 93,
   "id": "215ed56d",
   "metadata": {},
   "outputs": [
    {
     "name": "stdout",
     "output_type": "stream",
     "text": [
      "['mine', 'love', 'kiss', 'hug', 'favorite', 'everything']\n"
     ]
    }
   ],
   "source": [
    "Z = ['mine', 'love', 'kiss', 'hug', 'favorite', 'everything']\n",
    "\n",
    "print(Z)"
   ]
  },
  {
   "cell_type": "code",
   "execution_count": 94,
   "id": "4e55446f",
   "metadata": {},
   "outputs": [
    {
     "name": "stdout",
     "output_type": "stream",
     "text": [
      "love\n",
      "favorite\n"
     ]
    }
   ],
   "source": [
    "print(Z[1])\n",
    "\n",
    "print(Z[-2])"
   ]
  },
  {
   "cell_type": "code",
   "execution_count": 102,
   "id": "ee395f96",
   "metadata": {},
   "outputs": [
    {
     "data": {
      "text/plain": [
       "'mine'"
      ]
     },
     "execution_count": 102,
     "metadata": {},
     "output_type": "execute_result"
    }
   ],
   "source": [
    "(z1, z2, z3, z4) = ('mine', 'love', 'kiss', 'hug')\n",
    "    \n",
    "    \n",
    "z1"
   ]
  },
  {
   "cell_type": "code",
   "execution_count": 104,
   "id": "f437e7ea",
   "metadata": {},
   "outputs": [],
   "source": [
    "EPM_member = {\n",
    "    'Siska': 'Padang',\n",
    "    'Awan' : 'Bogor',\n",
    "    'Nida' : 'Jepara',\n",
    "    'Arum' : 'Jakarta'\n",
    "    \n",
    "}    "
   ]
  },
  {
   "cell_type": "code",
   "execution_count": 106,
   "id": "07e8a385",
   "metadata": {},
   "outputs": [
    {
     "name": "stdout",
     "output_type": "stream",
     "text": [
      "Jepara\n",
      "Padang\n"
     ]
    }
   ],
   "source": [
    "print(EPM_member['Nida'])\n",
    "print(EPM_member['Siska'])"
   ]
  },
  {
   "cell_type": "code",
   "execution_count": 111,
   "id": "79a7cc5f",
   "metadata": {},
   "outputs": [
    {
     "data": {
      "text/plain": [
       "{'Siska': 'Padang',\n",
       " 'Awan': 'Bogor',\n",
       " 'Nida': 'Jepara',\n",
       " 'Arum': 'Jakarta',\n",
       " 'BRI Agro': 'Awesome'}"
      ]
     },
     "execution_count": 111,
     "metadata": {},
     "output_type": "execute_result"
    }
   ],
   "source": [
    "EPM_member['BRI Agro'] = 'Awesome'\n",
    "EPM_member"
   ]
  },
  {
   "cell_type": "code",
   "execution_count": 112,
   "id": "8d21d181",
   "metadata": {},
   "outputs": [
    {
     "data": {
      "text/plain": [
       "{'Siska': 'Padang',\n",
       " 'Awan': 'Bogor',\n",
       " 'Nida': 'Karimun Jawa',\n",
       " 'Arum': 'Jakarta',\n",
       " 'BRI Agro': 'Awesome'}"
      ]
     },
     "execution_count": 112,
     "metadata": {},
     "output_type": "execute_result"
    }
   ],
   "source": [
    "EPM_member['Nida'] = 'Karimun Jawa'\n",
    "EPM_member"
   ]
  },
  {
   "cell_type": "code",
   "execution_count": 113,
   "id": "f5bbd56c",
   "metadata": {},
   "outputs": [
    {
     "data": {
      "text/plain": [
       "{'Siska': 'Padang',\n",
       " 'Awan': 'Bogor',\n",
       " 'Nida': 'Karimun Jawa',\n",
       " 'BRI Agro': 'Awesome'}"
      ]
     },
     "execution_count": 113,
     "metadata": {},
     "output_type": "execute_result"
    }
   ],
   "source": [
    "del EPM_member['Arum']\n",
    "EPM_member"
   ]
  },
  {
   "cell_type": "code",
   "execution_count": 115,
   "id": "5e6bcca8",
   "metadata": {},
   "outputs": [],
   "source": [
    "home = {}\n",
    "type(home)\n",
    "\n",
    "home['window'] = 'three'\n",
    "home['door'] = 'two'\n",
    "home['chair'] = 'wood'\n",
    "home['table'] = 'glass'\n",
    "home['person'] = 'four'\n",
    "home['children'] = ['Rebecca', 'Renata', 'Rovera']\n",
    "home['pets'] = {'cat':'cia','turtle': 'brown'}"
   ]
  },
  {
   "cell_type": "code",
   "execution_count": 116,
   "id": "3ed18aa5",
   "metadata": {},
   "outputs": [
    {
     "name": "stdout",
     "output_type": "stream",
     "text": [
      "['Rebecca', 'Renata', 'Rovera']\n",
      "two\n"
     ]
    }
   ],
   "source": [
    "print(home['children'])\n",
    "print(home['door'])"
   ]
  },
  {
   "cell_type": "code",
   "execution_count": 122,
   "id": "541d59b3",
   "metadata": {},
   "outputs": [
    {
     "name": "stdout",
     "output_type": "stream",
     "text": [
      "['Rebecca', 'Renata', 'Rovera']\n",
      "Rovera\n"
     ]
    }
   ],
   "source": [
    "print(home['children'])\n",
    "print(home['children'][2])"
   ]
  },
  {
   "cell_type": "code",
   "execution_count": 123,
   "id": "c637d7bd",
   "metadata": {},
   "outputs": [
    {
     "name": "stdout",
     "output_type": "stream",
     "text": [
      "{'cat': 'cia', 'turtle': 'brown'}\n",
      "brown\n"
     ]
    }
   ],
   "source": [
    "print(home['pets'])\n",
    "print(home['pets']['turtle'])"
   ]
  },
  {
   "cell_type": "code",
   "execution_count": 131,
   "id": "c182539d",
   "metadata": {},
   "outputs": [
    {
     "name": "stdout",
     "output_type": "stream",
     "text": [
      "dict_items([('z', 10), ('g', 20), ('i', 30)])\n",
      "dict_keys(['z', 'g', 'i'])\n",
      "dict_values([10, 20, 30])\n"
     ]
    }
   ],
   "source": [
    "# Build-in Methods\n",
    "a = {'z': 10, 'g': 20, 'i': 30}\n",
    "\n",
    "# items\n",
    "print(a.items())\n",
    "\n",
    "# keys\n",
    "print(a.keys())\n",
    "\n",
    "# values\n",
    "print(a.values())"
   ]
  },
  {
   "cell_type": "code",
   "execution_count": 132,
   "id": "a6a48375",
   "metadata": {},
   "outputs": [
    {
     "data": {
      "text/plain": [
       "True"
      ]
     },
     "execution_count": 132,
     "metadata": {},
     "output_type": "execute_result"
    }
   ],
   "source": [
    "home1_jakarta = 38\n",
    "home2_jakarta = 75\n",
    "home3_jakarta = 100\n",
    "\n",
    "that_is_sweethome_jakarta = (home1_jakarta >= 15 and home1_jakarta <= 80) or (home2_jakarta >= 76 and home2_jakarta <= 80 or (home3_jakarta >= 95) and person3_age <= 80)\n",
    "that_is_sweethome_jakarta"
   ]
  }
 ],
 "metadata": {
  "kernelspec": {
   "display_name": "Python 3",
   "language": "python",
   "name": "python3"
  },
  "language_info": {
   "codemirror_mode": {
    "name": "ipython",
    "version": 3
   },
   "file_extension": ".py",
   "mimetype": "text/x-python",
   "name": "python",
   "nbconvert_exporter": "python",
   "pygments_lexer": "ipython3",
   "version": "3.8.8"
  }
 },
 "nbformat": 4,
 "nbformat_minor": 5
}
